{
  "nbformat": 4,
  "nbformat_minor": 0,
  "metadata": {
    "colab": {
      "provenance": [],
      "authorship_tag": "ABX9TyM9jwIQdlmV2PNb8USqD69b",
      "include_colab_link": true
    },
    "kernelspec": {
      "name": "python3",
      "display_name": "Python 3"
    },
    "language_info": {
      "name": "python"
    }
  },
  "cells": [
    {
      "cell_type": "markdown",
      "metadata": {
        "id": "view-in-github",
        "colab_type": "text"
      },
      "source": [
        "<a href=\"https://colab.research.google.com/github/DS-Aditya-928/MLBWineDescisionTree/blob/main/Untitled0.ipynb\" target=\"_parent\"><img src=\"https://colab.research.google.com/assets/colab-badge.svg\" alt=\"Open In Colab\"/></a>"
      ]
    },
    {
      "cell_type": "code",
      "execution_count": 30,
      "metadata": {
        "id": "KJWrph1NRW4w"
      },
      "outputs": [],
      "source": [
        "import pandas as plib\n",
        "from sklearn.datasets import load_wine\n",
        "from sklearn.model_selection import train_test_split\n",
        "from sklearn.tree import DecisionTreeClassifier as dTree\n",
        "import seaborn as sblib\n",
        "\n",
        "data = load_wine()\n",
        "df = plib.DataFrame(data.data, columns=data.feature_names)\n",
        "df[\"target\"] = data.target\n",
        "\n",
        "#sblib.boxplot(df.iloc[:, :4])\n",
        "\n",
        "inData = df.drop(columns=[\"target\"])\n",
        "answers = df[\"target\"]\n"
      ]
    },
    {
      "cell_type": "code",
      "source": [
        "trainData, testData, trainAnswers, testAnswers = train_test_split(inData, answers)\n",
        "model = dTree()\n",
        "\n",
        "model.fit(trainData, trainAnswers)\n",
        "\n",
        "model.score(testData, testAnswers)"
      ],
      "metadata": {
        "colab": {
          "base_uri": "https://localhost:8080/"
        },
        "id": "DR2_BD8RXm--",
        "outputId": "f52ede82-f90f-4d12-b969-96ece050f4f2"
      },
      "execution_count": 42,
      "outputs": [
        {
          "output_type": "execute_result",
          "data": {
            "text/plain": [
              "0.9777777777777777"
            ]
          },
          "metadata": {},
          "execution_count": 42
        }
      ]
    }
  ]
}